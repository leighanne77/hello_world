{
  "nbformat": 4,
  "nbformat_minor": 0,
  "metadata": {
    "colab": {
      "provenance": [],
      "authorship_tag": "ABX9TyN3ssQP9GtmhMJx39QXgfOh",
      "include_colab_link": true
    },
    "kernelspec": {
      "name": "python3",
      "display_name": "Python 3"
    },
    "language_info": {
      "name": "python"
    }
  },
  "cells": [
    {
      "cell_type": "markdown",
      "metadata": {
        "id": "view-in-github",
        "colab_type": "text"
      },
      "source": [
        "<a href=\"https://colab.research.google.com/github/leighanne77/hello_world/blob/master/Zotero_Data_Processing_%2B_Vectorization_October_29%2C_2023.ipynb\" target=\"_parent\"><img src=\"https://colab.research.google.com/assets/colab-badge.svg\" alt=\"Open In Colab\"/></a>"
      ]
    },
    {
      "cell_type": "code",
      "execution_count": null,
      "metadata": {
        "id": "gBZbO6qQrlc5"
      },
      "outputs": [],
      "source": [
        "import json"
      ]
    },
    {
      "cell_type": "code",
      "source": [
        "from google.colab import files\n",
        "\n",
        "uploaded = files.upload()\n"
      ],
      "metadata": {
        "colab": {
          "base_uri": "https://localhost:8080/",
          "height": 82
        },
        "id": "wZtNa4NZx5e6",
        "outputId": "2067894e-2a35-4a26-c1da-8d66165a07ad"
      },
      "execution_count": null,
      "outputs": [
        {
          "output_type": "display_data",
          "data": {
            "text/plain": [
              "<IPython.core.display.HTML object>"
            ],
            "text/html": [
              "\n",
              "     <input type=\"file\" id=\"files-8a8b49f1-b2ea-4945-b635-889c741f3448\" name=\"files[]\" multiple disabled\n",
              "        style=\"border:none\" />\n",
              "     <output id=\"result-8a8b49f1-b2ea-4945-b635-889c741f3448\">\n",
              "      Upload widget is only available when the cell has been executed in the\n",
              "      current browser session. Please rerun this cell to enable.\n",
              "      </output>\n",
              "      <script>// Copyright 2017 Google LLC\n",
              "//\n",
              "// Licensed under the Apache License, Version 2.0 (the \"License\");\n",
              "// you may not use this file except in compliance with the License.\n",
              "// You may obtain a copy of the License at\n",
              "//\n",
              "//      http://www.apache.org/licenses/LICENSE-2.0\n",
              "//\n",
              "// Unless required by applicable law or agreed to in writing, software\n",
              "// distributed under the License is distributed on an \"AS IS\" BASIS,\n",
              "// WITHOUT WARRANTIES OR CONDITIONS OF ANY KIND, either express or implied.\n",
              "// See the License for the specific language governing permissions and\n",
              "// limitations under the License.\n",
              "\n",
              "/**\n",
              " * @fileoverview Helpers for google.colab Python module.\n",
              " */\n",
              "(function(scope) {\n",
              "function span(text, styleAttributes = {}) {\n",
              "  const element = document.createElement('span');\n",
              "  element.textContent = text;\n",
              "  for (const key of Object.keys(styleAttributes)) {\n",
              "    element.style[key] = styleAttributes[key];\n",
              "  }\n",
              "  return element;\n",
              "}\n",
              "\n",
              "// Max number of bytes which will be uploaded at a time.\n",
              "const MAX_PAYLOAD_SIZE = 100 * 1024;\n",
              "\n",
              "function _uploadFiles(inputId, outputId) {\n",
              "  const steps = uploadFilesStep(inputId, outputId);\n",
              "  const outputElement = document.getElementById(outputId);\n",
              "  // Cache steps on the outputElement to make it available for the next call\n",
              "  // to uploadFilesContinue from Python.\n",
              "  outputElement.steps = steps;\n",
              "\n",
              "  return _uploadFilesContinue(outputId);\n",
              "}\n",
              "\n",
              "// This is roughly an async generator (not supported in the browser yet),\n",
              "// where there are multiple asynchronous steps and the Python side is going\n",
              "// to poll for completion of each step.\n",
              "// This uses a Promise to block the python side on completion of each step,\n",
              "// then passes the result of the previous step as the input to the next step.\n",
              "function _uploadFilesContinue(outputId) {\n",
              "  const outputElement = document.getElementById(outputId);\n",
              "  const steps = outputElement.steps;\n",
              "\n",
              "  const next = steps.next(outputElement.lastPromiseValue);\n",
              "  return Promise.resolve(next.value.promise).then((value) => {\n",
              "    // Cache the last promise value to make it available to the next\n",
              "    // step of the generator.\n",
              "    outputElement.lastPromiseValue = value;\n",
              "    return next.value.response;\n",
              "  });\n",
              "}\n",
              "\n",
              "/**\n",
              " * Generator function which is called between each async step of the upload\n",
              " * process.\n",
              " * @param {string} inputId Element ID of the input file picker element.\n",
              " * @param {string} outputId Element ID of the output display.\n",
              " * @return {!Iterable<!Object>} Iterable of next steps.\n",
              " */\n",
              "function* uploadFilesStep(inputId, outputId) {\n",
              "  const inputElement = document.getElementById(inputId);\n",
              "  inputElement.disabled = false;\n",
              "\n",
              "  const outputElement = document.getElementById(outputId);\n",
              "  outputElement.innerHTML = '';\n",
              "\n",
              "  const pickedPromise = new Promise((resolve) => {\n",
              "    inputElement.addEventListener('change', (e) => {\n",
              "      resolve(e.target.files);\n",
              "    });\n",
              "  });\n",
              "\n",
              "  const cancel = document.createElement('button');\n",
              "  inputElement.parentElement.appendChild(cancel);\n",
              "  cancel.textContent = 'Cancel upload';\n",
              "  const cancelPromise = new Promise((resolve) => {\n",
              "    cancel.onclick = () => {\n",
              "      resolve(null);\n",
              "    };\n",
              "  });\n",
              "\n",
              "  // Wait for the user to pick the files.\n",
              "  const files = yield {\n",
              "    promise: Promise.race([pickedPromise, cancelPromise]),\n",
              "    response: {\n",
              "      action: 'starting',\n",
              "    }\n",
              "  };\n",
              "\n",
              "  cancel.remove();\n",
              "\n",
              "  // Disable the input element since further picks are not allowed.\n",
              "  inputElement.disabled = true;\n",
              "\n",
              "  if (!files) {\n",
              "    return {\n",
              "      response: {\n",
              "        action: 'complete',\n",
              "      }\n",
              "    };\n",
              "  }\n",
              "\n",
              "  for (const file of files) {\n",
              "    const li = document.createElement('li');\n",
              "    li.append(span(file.name, {fontWeight: 'bold'}));\n",
              "    li.append(span(\n",
              "        `(${file.type || 'n/a'}) - ${file.size} bytes, ` +\n",
              "        `last modified: ${\n",
              "            file.lastModifiedDate ? file.lastModifiedDate.toLocaleDateString() :\n",
              "                                    'n/a'} - `));\n",
              "    const percent = span('0% done');\n",
              "    li.appendChild(percent);\n",
              "\n",
              "    outputElement.appendChild(li);\n",
              "\n",
              "    const fileDataPromise = new Promise((resolve) => {\n",
              "      const reader = new FileReader();\n",
              "      reader.onload = (e) => {\n",
              "        resolve(e.target.result);\n",
              "      };\n",
              "      reader.readAsArrayBuffer(file);\n",
              "    });\n",
              "    // Wait for the data to be ready.\n",
              "    let fileData = yield {\n",
              "      promise: fileDataPromise,\n",
              "      response: {\n",
              "        action: 'continue',\n",
              "      }\n",
              "    };\n",
              "\n",
              "    // Use a chunked sending to avoid message size limits. See b/62115660.\n",
              "    let position = 0;\n",
              "    do {\n",
              "      const length = Math.min(fileData.byteLength - position, MAX_PAYLOAD_SIZE);\n",
              "      const chunk = new Uint8Array(fileData, position, length);\n",
              "      position += length;\n",
              "\n",
              "      const base64 = btoa(String.fromCharCode.apply(null, chunk));\n",
              "      yield {\n",
              "        response: {\n",
              "          action: 'append',\n",
              "          file: file.name,\n",
              "          data: base64,\n",
              "        },\n",
              "      };\n",
              "\n",
              "      let percentDone = fileData.byteLength === 0 ?\n",
              "          100 :\n",
              "          Math.round((position / fileData.byteLength) * 100);\n",
              "      percent.textContent = `${percentDone}% done`;\n",
              "\n",
              "    } while (position < fileData.byteLength);\n",
              "  }\n",
              "\n",
              "  // All done.\n",
              "  yield {\n",
              "    response: {\n",
              "      action: 'complete',\n",
              "    }\n",
              "  };\n",
              "}\n",
              "\n",
              "scope.google = scope.google || {};\n",
              "scope.google.colab = scope.google.colab || {};\n",
              "scope.google.colab._files = {\n",
              "  _uploadFiles,\n",
              "  _uploadFilesContinue,\n",
              "};\n",
              "})(self);\n",
              "</script> "
            ]
          },
          "metadata": {}
        },
        {
          "output_type": "stream",
          "name": "stdout",
          "text": [
            "Saving Zotero October 28, 2023.json to Zotero October 28, 2023.json\n"
          ]
        }
      ]
    },
    {
      "cell_type": "code",
      "source": [
        "with open('Zotero October 28, 2023.json', 'r') as f:\n",
        "    data = json.load(f)"
      ],
      "metadata": {
        "id": "6Q9986oSuuTR"
      },
      "execution_count": null,
      "outputs": []
    },
    {
      "cell_type": "code",
      "source": [
        "import pandas as pd\n",
        "\n",
        "for item in data:\n",
        "    authors = item.get('author', [])\n",
        "    for idx, author in enumerate(authors):\n",
        "        item[f'author{idx + 1}_name'] = f\"{author['given']} {author['family']}\"\n",
        "    item.pop('author', None)\n",
        "\n",
        "    if 'issued' in item:\n",
        "        issued_date_parts = item['issued']['date-parts'][0]\n",
        "        item['issued_date'] = '-'.join(map(str, issued_date_parts))\n",
        "        item.pop('issued', None)\n",
        "\n",
        "    if 'accessed' in item:\n",
        "        accessed_date_parts = item['accessed']['date-parts'][0]\n",
        "        item['accessed_date'] = '-'.join(map(str, accessed_date_parts))\n",
        "        item.pop('accessed', None)\n",
        "\n",
        "df = pd.DataFrame(data)\n"
      ],
      "metadata": {
        "id": "C2FbgSvox6cc"
      },
      "execution_count": null,
      "outputs": []
    },
    {
      "cell_type": "code",
      "source": [
        "print(df.info())\n",
        "print(df.describe())\n"
      ],
      "metadata": {
        "colab": {
          "base_uri": "https://localhost:8080/"
        },
        "id": "Jqn5baSJzgll",
        "outputId": "e5805fd9-253f-4a47-b86b-a7f3486beeb9"
      },
      "execution_count": null,
      "outputs": [
        {
          "output_type": "stream",
          "name": "stdout",
          "text": [
            "<class 'pandas.core.frame.DataFrame'>\n",
            "RangeIndex: 201 entries, 0 to 200\n",
            "Data columns (total 56 columns):\n",
            " #   Column               Non-Null Count  Dtype \n",
            "---  ------               --------------  ----- \n",
            " 0   id                   201 non-null    object\n",
            " 1   type                 201 non-null    object\n",
            " 2   abstract             158 non-null    object\n",
            " 3   container-title      90 non-null     object\n",
            " 4   DOI                  27 non-null     object\n",
            " 5   ISSN                 12 non-null     object\n",
            " 6   issue                8 non-null      object\n",
            " 7   journalAbbreviation  6 non-null      object\n",
            " 8   page                 12 non-null     object\n",
            " 9   source               49 non-null     object\n",
            " 10  title                201 non-null    object\n",
            " 11  title-short          45 non-null     object\n",
            " 12  URL                  193 non-null    object\n",
            " 13  volume               11 non-null     object\n",
            " 14  author1_name         85 non-null     object\n",
            " 15  author2_name         30 non-null     object\n",
            " 16  issued_date          112 non-null    object\n",
            " 17  accessed_date        195 non-null    object\n",
            " 18  language             101 non-null    object\n",
            " 19  note                 37 non-null     object\n",
            " 20  author3_name         24 non-null     object\n",
            " 21  license              12 non-null     object\n",
            " 22  author4_name         19 non-null     object\n",
            " 23  author5_name         14 non-null     object\n",
            " 24  author6_name         13 non-null     object\n",
            " 25  dimensions           7 non-null      object\n",
            " 26  director             7 non-null      object\n",
            " 27  number               16 non-null     object\n",
            " 28  publisher            17 non-null     object\n",
            " 29  author7_name         7 non-null      object\n",
            " 30  author8_name         6 non-null      object\n",
            " 31  author9_name         5 non-null      object\n",
            " 32  author10_name        3 non-null      object\n",
            " 33  collection-title     4 non-null      object\n",
            " 34  event-place          3 non-null      object\n",
            " 35  ISBN                 3 non-null      object\n",
            " 36  publisher-place      3 non-null      object\n",
            " 37  genre                5 non-null      object\n",
            " 38  author11_name        2 non-null      object\n",
            " 39  author12_name        1 non-null      object\n",
            " 40  author13_name        1 non-null      object\n",
            " 41  author14_name        1 non-null      object\n",
            " 42  author15_name        1 non-null      object\n",
            " 43  author16_name        1 non-null      object\n",
            " 44  author17_name        1 non-null      object\n",
            " 45  author18_name        1 non-null      object\n",
            " 46  author19_name        1 non-null      object\n",
            " 47  author20_name        1 non-null      object\n",
            " 48  author21_name        1 non-null      object\n",
            " 49  author22_name        1 non-null      object\n",
            " 50  author23_name        1 non-null      object\n",
            " 51  author24_name        1 non-null      object\n",
            " 52  author25_name        1 non-null      object\n",
            " 53  author26_name        1 non-null      object\n",
            " 54  number-of-pages      1 non-null      object\n",
            " 55  medium               1 non-null      object\n",
            "dtypes: object(56)\n",
            "memory usage: 88.1+ KB\n",
            "None\n",
            "                                                     id     type  \\\n",
            "count                                               201      201   \n",
            "unique                                              201       13   \n",
            "top     http://zotero.org/users/12416069/items/HNQA5SQ8  webpage   \n",
            "freq                                                  1      119   \n",
            "\n",
            "                                                 abstract container-title  \\\n",
            "count                                                 158              90   \n",
            "unique                                                152              67   \n",
            "top     The CEO of Alphabet's X says no problem in the...          Medium   \n",
            "freq                                                    3               8   \n",
            "\n",
            "                    DOI                  ISSN issue journalAbbreviation page  \\\n",
            "count                27                    12     8                   6   12   \n",
            "unique               27                    11     6                   5   11   \n",
            "top     10.1145/3548772  1935-8237, 1935-8245     8                 MAL    2   \n",
            "freq                  1                     2     2                   2    2   \n",
            "\n",
            "           source  ... author19_name  author20_name   author21_name  \\\n",
            "count          49  ...             1              1               1   \n",
            "unique         17  ...             1              1               1   \n",
            "top     arXiv.org  ...  David Budden  Laurent Sifre  Simon Osindero   \n",
            "freq           16  ...             1              1               1   \n",
            "\n",
            "        author22_name author23_name author24_name      author25_name  \\\n",
            "count               1             1             1                  1   \n",
            "unique              1             1             1                  1   \n",
            "top     Oriol Vinyals      Jack Rae   Erich Elsen  Koray Kavukcuoglu   \n",
            "freq                1             1             1                  1   \n",
            "\n",
            "         author26_name number-of-pages medium  \n",
            "count                1               1      1  \n",
            "unique               1               1      1  \n",
            "top     Karen Simonyan              83  colab  \n",
            "freq                 1               1      1  \n",
            "\n",
            "[4 rows x 56 columns]\n"
          ]
        }
      ]
    },
    {
      "cell_type": "code",
      "source": [
        "print(df.isnull().sum())\n"
      ],
      "metadata": {
        "colab": {
          "base_uri": "https://localhost:8080/"
        },
        "id": "ECtdAmD20Qao",
        "outputId": "4f112e27-9c81-47d5-fc9c-88a455199fdb"
      },
      "execution_count": null,
      "outputs": [
        {
          "output_type": "stream",
          "name": "stdout",
          "text": [
            "id                       0\n",
            "type                     0\n",
            "abstract                43\n",
            "container-title        111\n",
            "DOI                    174\n",
            "ISSN                   189\n",
            "issue                  193\n",
            "journalAbbreviation    195\n",
            "page                   189\n",
            "source                 152\n",
            "title                    0\n",
            "title-short            156\n",
            "URL                      8\n",
            "volume                 190\n",
            "author1_name           116\n",
            "author2_name           171\n",
            "issued_date             89\n",
            "accessed_date            6\n",
            "language               100\n",
            "note                   164\n",
            "author3_name           177\n",
            "license                189\n",
            "author4_name           182\n",
            "author5_name           187\n",
            "author6_name           188\n",
            "dimensions             194\n",
            "director               194\n",
            "number                 185\n",
            "publisher              184\n",
            "author7_name           194\n",
            "author8_name           195\n",
            "author9_name           196\n",
            "author10_name          198\n",
            "collection-title       197\n",
            "event-place            198\n",
            "ISBN                   198\n",
            "publisher-place        198\n",
            "genre                  196\n",
            "author11_name          199\n",
            "author12_name          200\n",
            "author13_name          200\n",
            "author14_name          200\n",
            "author15_name          200\n",
            "author16_name          200\n",
            "author17_name          200\n",
            "author18_name          200\n",
            "author19_name          200\n",
            "author20_name          200\n",
            "author21_name          200\n",
            "author22_name          200\n",
            "author23_name          200\n",
            "author24_name          200\n",
            "author25_name          200\n",
            "author26_name          200\n",
            "number-of-pages        200\n",
            "medium                 200\n",
            "dtype: int64\n"
          ]
        }
      ]
    },
    {
      "cell_type": "code",
      "source": [
        "df = df.dropna(axis=1, how='all')\n"
      ],
      "metadata": {
        "id": "GT4uk5Zh3x6w"
      },
      "execution_count": null,
      "outputs": []
    },
    {
      "cell_type": "code",
      "source": [
        "print(df.info())"
      ],
      "metadata": {
        "colab": {
          "base_uri": "https://localhost:8080/"
        },
        "id": "Q5a9h7LB3zkB",
        "outputId": "1f9a20fb-788a-4095-a8ae-8c3e1baa798a"
      },
      "execution_count": null,
      "outputs": [
        {
          "output_type": "stream",
          "name": "stdout",
          "text": [
            "<class 'pandas.core.frame.DataFrame'>\n",
            "RangeIndex: 201 entries, 0 to 200\n",
            "Data columns (total 56 columns):\n",
            " #   Column               Non-Null Count  Dtype \n",
            "---  ------               --------------  ----- \n",
            " 0   id                   201 non-null    object\n",
            " 1   type                 201 non-null    object\n",
            " 2   abstract             158 non-null    object\n",
            " 3   container-title      90 non-null     object\n",
            " 4   DOI                  27 non-null     object\n",
            " 5   ISSN                 12 non-null     object\n",
            " 6   issue                8 non-null      object\n",
            " 7   journalAbbreviation  6 non-null      object\n",
            " 8   page                 12 non-null     object\n",
            " 9   source               49 non-null     object\n",
            " 10  title                201 non-null    object\n",
            " 11  title-short          45 non-null     object\n",
            " 12  URL                  193 non-null    object\n",
            " 13  volume               11 non-null     object\n",
            " 14  author1_name         85 non-null     object\n",
            " 15  author2_name         30 non-null     object\n",
            " 16  issued_date          112 non-null    object\n",
            " 17  accessed_date        195 non-null    object\n",
            " 18  language             101 non-null    object\n",
            " 19  note                 37 non-null     object\n",
            " 20  author3_name         24 non-null     object\n",
            " 21  license              12 non-null     object\n",
            " 22  author4_name         19 non-null     object\n",
            " 23  author5_name         14 non-null     object\n",
            " 24  author6_name         13 non-null     object\n",
            " 25  dimensions           7 non-null      object\n",
            " 26  director             7 non-null      object\n",
            " 27  number               16 non-null     object\n",
            " 28  publisher            17 non-null     object\n",
            " 29  author7_name         7 non-null      object\n",
            " 30  author8_name         6 non-null      object\n",
            " 31  author9_name         5 non-null      object\n",
            " 32  author10_name        3 non-null      object\n",
            " 33  collection-title     4 non-null      object\n",
            " 34  event-place          3 non-null      object\n",
            " 35  ISBN                 3 non-null      object\n",
            " 36  publisher-place      3 non-null      object\n",
            " 37  genre                5 non-null      object\n",
            " 38  author11_name        2 non-null      object\n",
            " 39  author12_name        1 non-null      object\n",
            " 40  author13_name        1 non-null      object\n",
            " 41  author14_name        1 non-null      object\n",
            " 42  author15_name        1 non-null      object\n",
            " 43  author16_name        1 non-null      object\n",
            " 44  author17_name        1 non-null      object\n",
            " 45  author18_name        1 non-null      object\n",
            " 46  author19_name        1 non-null      object\n",
            " 47  author20_name        1 non-null      object\n",
            " 48  author21_name        1 non-null      object\n",
            " 49  author22_name        1 non-null      object\n",
            " 50  author23_name        1 non-null      object\n",
            " 51  author24_name        1 non-null      object\n",
            " 52  author25_name        1 non-null      object\n",
            " 53  author26_name        1 non-null      object\n",
            " 54  number-of-pages      1 non-null      object\n",
            " 55  medium               1 non-null      object\n",
            "dtypes: object(56)\n",
            "memory usage: 88.1+ KB\n",
            "None\n"
          ]
        }
      ]
    },
    {
      "cell_type": "code",
      "source": [
        "threshold = 2  # Set this to whatever number you feel is appropriate\n",
        "df = df.dropna(thresh=threshold, axis=1)\n"
      ],
      "metadata": {
        "id": "sDuKKxs14U9f"
      },
      "execution_count": null,
      "outputs": []
    },
    {
      "cell_type": "code",
      "source": [
        "print(df.info())"
      ],
      "metadata": {
        "colab": {
          "base_uri": "https://localhost:8080/"
        },
        "id": "O4kCVu1F4aUs",
        "outputId": "a40cd5e2-b30c-4896-9401-c36601370624"
      },
      "execution_count": null,
      "outputs": [
        {
          "output_type": "stream",
          "name": "stdout",
          "text": [
            "<class 'pandas.core.frame.DataFrame'>\n",
            "RangeIndex: 201 entries, 0 to 200\n",
            "Data columns (total 39 columns):\n",
            " #   Column               Non-Null Count  Dtype \n",
            "---  ------               --------------  ----- \n",
            " 0   id                   201 non-null    object\n",
            " 1   type                 201 non-null    object\n",
            " 2   abstract             158 non-null    object\n",
            " 3   container-title      90 non-null     object\n",
            " 4   DOI                  27 non-null     object\n",
            " 5   ISSN                 12 non-null     object\n",
            " 6   issue                8 non-null      object\n",
            " 7   journalAbbreviation  6 non-null      object\n",
            " 8   page                 12 non-null     object\n",
            " 9   source               49 non-null     object\n",
            " 10  title                201 non-null    object\n",
            " 11  title-short          45 non-null     object\n",
            " 12  URL                  193 non-null    object\n",
            " 13  volume               11 non-null     object\n",
            " 14  author1_name         85 non-null     object\n",
            " 15  author2_name         30 non-null     object\n",
            " 16  issued_date          112 non-null    object\n",
            " 17  accessed_date        195 non-null    object\n",
            " 18  language             101 non-null    object\n",
            " 19  note                 37 non-null     object\n",
            " 20  author3_name         24 non-null     object\n",
            " 21  license              12 non-null     object\n",
            " 22  author4_name         19 non-null     object\n",
            " 23  author5_name         14 non-null     object\n",
            " 24  author6_name         13 non-null     object\n",
            " 25  dimensions           7 non-null      object\n",
            " 26  director             7 non-null      object\n",
            " 27  number               16 non-null     object\n",
            " 28  publisher            17 non-null     object\n",
            " 29  author7_name         7 non-null      object\n",
            " 30  author8_name         6 non-null      object\n",
            " 31  author9_name         5 non-null      object\n",
            " 32  author10_name        3 non-null      object\n",
            " 33  collection-title     4 non-null      object\n",
            " 34  event-place          3 non-null      object\n",
            " 35  ISBN                 3 non-null      object\n",
            " 36  publisher-place      3 non-null      object\n",
            " 37  genre                5 non-null      object\n",
            " 38  author11_name        2 non-null      object\n",
            "dtypes: object(39)\n",
            "memory usage: 61.4+ KB\n",
            "None\n"
          ]
        }
      ]
    },
    {
      "cell_type": "code",
      "source": [
        "df.fillna(value=0, inplace=True)  # Replace NaN with 0\n"
      ],
      "metadata": {
        "id": "a4dIHX770ZA4",
        "colab": {
          "base_uri": "https://localhost:8080/"
        },
        "outputId": "93d6a187-4ba9-46ac-9865-d48d8d0a1c26"
      },
      "execution_count": null,
      "outputs": [
        {
          "output_type": "stream",
          "name": "stderr",
          "text": [
            "<ipython-input-11-a535f51ebf77>:1: SettingWithCopyWarning: \n",
            "A value is trying to be set on a copy of a slice from a DataFrame\n",
            "\n",
            "See the caveats in the documentation: https://pandas.pydata.org/pandas-docs/stable/user_guide/indexing.html#returning-a-view-versus-a-copy\n",
            "  df.fillna(value=0, inplace=True)  # Replace NaN with 0\n"
          ]
        }
      ]
    },
    {
      "cell_type": "code",
      "source": [
        "print(df.info())\n",
        "print(df.describe())\n"
      ],
      "metadata": {
        "colab": {
          "base_uri": "https://localhost:8080/"
        },
        "id": "2Hmj0Zipzr7L",
        "outputId": "e227edcc-2792-4c62-96d6-1a847a5ddbab"
      },
      "execution_count": null,
      "outputs": [
        {
          "output_type": "stream",
          "name": "stdout",
          "text": [
            "<class 'pandas.core.frame.DataFrame'>\n",
            "RangeIndex: 201 entries, 0 to 200\n",
            "Data columns (total 39 columns):\n",
            " #   Column               Non-Null Count  Dtype \n",
            "---  ------               --------------  ----- \n",
            " 0   id                   201 non-null    object\n",
            " 1   type                 201 non-null    object\n",
            " 2   abstract             201 non-null    object\n",
            " 3   container-title      201 non-null    object\n",
            " 4   DOI                  201 non-null    object\n",
            " 5   ISSN                 201 non-null    object\n",
            " 6   issue                201 non-null    object\n",
            " 7   journalAbbreviation  201 non-null    object\n",
            " 8   page                 201 non-null    object\n",
            " 9   source               201 non-null    object\n",
            " 10  title                201 non-null    object\n",
            " 11  title-short          201 non-null    object\n",
            " 12  URL                  201 non-null    object\n",
            " 13  volume               201 non-null    object\n",
            " 14  author1_name         201 non-null    object\n",
            " 15  author2_name         201 non-null    object\n",
            " 16  issued_date          201 non-null    object\n",
            " 17  accessed_date        201 non-null    object\n",
            " 18  language             201 non-null    object\n",
            " 19  note                 201 non-null    object\n",
            " 20  author3_name         201 non-null    object\n",
            " 21  license              201 non-null    object\n",
            " 22  author4_name         201 non-null    object\n",
            " 23  author5_name         201 non-null    object\n",
            " 24  author6_name         201 non-null    object\n",
            " 25  dimensions           201 non-null    object\n",
            " 26  director             201 non-null    object\n",
            " 27  number               201 non-null    object\n",
            " 28  publisher            201 non-null    object\n",
            " 29  author7_name         201 non-null    object\n",
            " 30  author8_name         201 non-null    object\n",
            " 31  author9_name         201 non-null    object\n",
            " 32  author10_name        201 non-null    object\n",
            " 33  collection-title     201 non-null    object\n",
            " 34  event-place          201 non-null    object\n",
            " 35  ISBN                 201 non-null    object\n",
            " 36  publisher-place      201 non-null    object\n",
            " 37  genre                201 non-null    object\n",
            " 38  author11_name        201 non-null    object\n",
            "dtypes: object(39)\n",
            "memory usage: 61.4+ KB\n",
            "None\n",
            "                                                     id     type  abstract  \\\n",
            "count                                               201      201       201   \n",
            "unique                                              201       13       153   \n",
            "top     http://zotero.org/users/12416069/items/HNQA5SQ8  webpage         0   \n",
            "freq                                                  1      119        43   \n",
            "\n",
            "        container-title  DOI  ISSN  issue  journalAbbreviation  page  source  \\\n",
            "count               201  201   201    201                  201   201     201   \n",
            "unique               68   28    12      7                    6    12      18   \n",
            "top                   0    0     0      0                    0     0       0   \n",
            "freq                111  174   189    193                  195   189     152   \n",
            "\n",
            "        ... author7_name  author8_name  author9_name  author10_name  \\\n",
            "count   ...          201           201           201            201   \n",
            "unique  ...            8             7             6              4   \n",
            "top     ...            0             0             0              0   \n",
            "freq    ...          194           195           196            198   \n",
            "\n",
            "        collection-title  event-place  ISBN publisher-place  genre  \\\n",
            "count                201          201   201             201    201   \n",
            "unique                 3            2     2               2      5   \n",
            "top                    0            0     0               0      0   \n",
            "freq                 197          198   198             198    196   \n",
            "\n",
            "        author11_name  \n",
            "count             201  \n",
            "unique              3  \n",
            "top                 0  \n",
            "freq              199  \n",
            "\n",
            "[4 rows x 39 columns]\n"
          ]
        }
      ]
    },
    {
      "cell_type": "code",
      "source": [
        "import numpy as np\n",
        "import re\n",
        "\n",
        "\n",
        "# Define valid_dates using regex pattern\n",
        "pattern = r'^\\d{4}-\\d{2}-\\d{2}$'\n",
        "valid_dates = df['issued_date'].str.match(pattern).fillna(False)\n",
        "\n",
        "\n",
        "if 'issued_date' in df:\n",
        "\n",
        "    # Filter the dataframe based on valid dates.\n",
        "    filtered_dates = df.loc[valid_dates, 'issued_date']\n",
        "\n",
        "\n",
        "    # Split the filtered `issued_date`.\n",
        "    df.loc[valid_dates, 'issued_year'] = filtered_dates.str.split('-').str[0].astype(np.int16)\n",
        "    df.loc[valid_dates, 'issued_month'] = filtered_dates.str.split('-').str[1].astype(np.int16)\n",
        "    df.loc[valid_dates, 'issued_day'] = filtered_dates.str.split('-').str[2].astype(np.int16)\n"
      ],
      "metadata": {
        "id": "wsBVO3ik5ZoH"
      },
      "execution_count": null,
      "outputs": []
    },
    {
      "cell_type": "code",
      "source": [
        "print(df.info())"
      ],
      "metadata": {
        "colab": {
          "base_uri": "https://localhost:8080/"
        },
        "id": "ZkUs4_NQ0x9i",
        "outputId": "86a53fc1-fb3f-4364-c955-7325e95f0fe8"
      },
      "execution_count": null,
      "outputs": [
        {
          "output_type": "stream",
          "name": "stdout",
          "text": [
            "<class 'pandas.core.frame.DataFrame'>\n",
            "RangeIndex: 201 entries, 0 to 200\n",
            "Data columns (total 42 columns):\n",
            " #   Column               Non-Null Count  Dtype  \n",
            "---  ------               --------------  -----  \n",
            " 0   id                   201 non-null    object \n",
            " 1   type                 201 non-null    object \n",
            " 2   abstract             201 non-null    object \n",
            " 3   container-title      201 non-null    object \n",
            " 4   DOI                  201 non-null    object \n",
            " 5   ISSN                 201 non-null    object \n",
            " 6   issue                201 non-null    object \n",
            " 7   journalAbbreviation  201 non-null    object \n",
            " 8   page                 201 non-null    object \n",
            " 9   source               201 non-null    object \n",
            " 10  title                201 non-null    object \n",
            " 11  title-short          201 non-null    object \n",
            " 12  URL                  201 non-null    object \n",
            " 13  volume               201 non-null    object \n",
            " 14  author1_name         201 non-null    object \n",
            " 15  author2_name         201 non-null    object \n",
            " 16  issued_date          201 non-null    object \n",
            " 17  accessed_date        201 non-null    object \n",
            " 18  language             201 non-null    object \n",
            " 19  note                 201 non-null    object \n",
            " 20  author3_name         201 non-null    object \n",
            " 21  license              201 non-null    object \n",
            " 22  author4_name         201 non-null    object \n",
            " 23  author5_name         201 non-null    object \n",
            " 24  author6_name         201 non-null    object \n",
            " 25  dimensions           201 non-null    object \n",
            " 26  director             201 non-null    object \n",
            " 27  number               201 non-null    object \n",
            " 28  publisher            201 non-null    object \n",
            " 29  author7_name         201 non-null    object \n",
            " 30  author8_name         201 non-null    object \n",
            " 31  author9_name         201 non-null    object \n",
            " 32  author10_name        201 non-null    object \n",
            " 33  collection-title     201 non-null    object \n",
            " 34  event-place          201 non-null    object \n",
            " 35  ISBN                 201 non-null    object \n",
            " 36  publisher-place      201 non-null    object \n",
            " 37  genre                201 non-null    object \n",
            " 38  author11_name        201 non-null    object \n",
            " 39  issued_year          22 non-null     float64\n",
            " 40  issued_month         22 non-null     float64\n",
            " 41  issued_day           22 non-null     float64\n",
            "dtypes: float64(3), object(39)\n",
            "memory usage: 66.1+ KB\n",
            "None\n"
          ]
        }
      ]
    },
    {
      "cell_type": "markdown",
      "source": [
        "#Feature Engineering"
      ],
      "metadata": {
        "id": "BCD7YSnw71mE"
      }
    },
    {
      "cell_type": "code",
      "source": [
        "from sklearn.preprocessing import OneHotEncoder, LabelEncoder, StandardScaler\n",
        "\n",
        "# One-hot encoding for 'type'\n",
        "type_encoder = OneHotEncoder()\n",
        "type_one_hot = type_encoder.fit_transform(df[['type']])\n",
        "type_df = pd.DataFrame(type_one_hot.toarray(), columns=type_encoder.get_feature_names_out(['type']))\n",
        "\n",
        "# Join with the main dataframe\n",
        "df = pd.concat([df, type_df], axis=1)\n",
        "\n",
        "df_ready = df\n"
      ],
      "metadata": {
        "id": "q3rtihX31Ezt"
      },
      "execution_count": null,
      "outputs": []
    },
    {
      "cell_type": "code",
      "source": [
        "df_ready.info()"
      ],
      "metadata": {
        "colab": {
          "base_uri": "https://localhost:8080/"
        },
        "id": "cbhaQhTi-Hym",
        "outputId": "248f3eb1-dc23-4b7d-8f7c-dafaf2ace162"
      },
      "execution_count": null,
      "outputs": [
        {
          "output_type": "stream",
          "name": "stdout",
          "text": [
            "<class 'pandas.core.frame.DataFrame'>\n",
            "RangeIndex: 201 entries, 0 to 200\n",
            "Data columns (total 55 columns):\n",
            " #   Column                   Non-Null Count  Dtype  \n",
            "---  ------                   --------------  -----  \n",
            " 0   id                       201 non-null    object \n",
            " 1   type                     201 non-null    object \n",
            " 2   abstract                 201 non-null    object \n",
            " 3   container-title          201 non-null    object \n",
            " 4   DOI                      201 non-null    object \n",
            " 5   ISSN                     201 non-null    object \n",
            " 6   issue                    201 non-null    object \n",
            " 7   journalAbbreviation      201 non-null    object \n",
            " 8   page                     201 non-null    object \n",
            " 9   source                   201 non-null    object \n",
            " 10  title                    201 non-null    object \n",
            " 11  title-short              201 non-null    object \n",
            " 12  URL                      201 non-null    object \n",
            " 13  volume                   201 non-null    object \n",
            " 14  author1_name             201 non-null    object \n",
            " 15  author2_name             201 non-null    object \n",
            " 16  issued_date              201 non-null    object \n",
            " 17  accessed_date            201 non-null    object \n",
            " 18  language                 201 non-null    object \n",
            " 19  note                     201 non-null    object \n",
            " 20  author3_name             201 non-null    object \n",
            " 21  license                  201 non-null    object \n",
            " 22  author4_name             201 non-null    object \n",
            " 23  author5_name             201 non-null    object \n",
            " 24  author6_name             201 non-null    object \n",
            " 25  dimensions               201 non-null    object \n",
            " 26  director                 201 non-null    object \n",
            " 27  number                   201 non-null    object \n",
            " 28  publisher                201 non-null    object \n",
            " 29  author7_name             201 non-null    object \n",
            " 30  author8_name             201 non-null    object \n",
            " 31  author9_name             201 non-null    object \n",
            " 32  author10_name            201 non-null    object \n",
            " 33  collection-title         201 non-null    object \n",
            " 34  event-place              201 non-null    object \n",
            " 35  ISBN                     201 non-null    object \n",
            " 36  publisher-place          201 non-null    object \n",
            " 37  genre                    201 non-null    object \n",
            " 38  author11_name            201 non-null    object \n",
            " 39  issued_year              22 non-null     float64\n",
            " 40  issued_month             22 non-null     float64\n",
            " 41  issued_day               22 non-null     float64\n",
            " 42  type_article             201 non-null    float64\n",
            " 43  type_article-journal     201 non-null    float64\n",
            " 44  type_article-magazine    201 non-null    float64\n",
            " 45  type_book                201 non-null    float64\n",
            " 46  type_document            201 non-null    float64\n",
            " 47  type_entry-encyclopedia  201 non-null    float64\n",
            " 48  type_motion_picture      201 non-null    float64\n",
            " 49  type_paper-conference    201 non-null    float64\n",
            " 50  type_post                201 non-null    float64\n",
            " 51  type_post-weblog         201 non-null    float64\n",
            " 52  type_software            201 non-null    float64\n",
            " 53  type_thesis              201 non-null    float64\n",
            " 54  type_webpage             201 non-null    float64\n",
            "dtypes: float64(16), object(39)\n",
            "memory usage: 86.5+ KB\n"
          ]
        }
      ]
    },
    {
      "cell_type": "markdown",
      "source": [
        "# VECTORIZATION"
      ],
      "metadata": {
        "id": "hS5sQ8OprpF5"
      }
    },
    {
      "cell_type": "code",
      "source": [
        "from sklearn.feature_extraction.text import TfidfVectorizer\n",
        "\n",
        "from sklearn.preprocessing import StandardScaler\n",
        "import scipy.sparse as sp\n",
        "from sklearn.decomposition import PCA\n"
      ],
      "metadata": {
        "id": "oOgDzbpQ2psf"
      },
      "execution_count": null,
      "outputs": []
    },
    {
      "cell_type": "code",
      "source": [
        "# Convert the 'abstract' column to string\n",
        "df_ready['abstract'] = df_ready['abstract'].astype(str)"
      ],
      "metadata": {
        "id": "1QqKNzdx7mjz"
      },
      "execution_count": null,
      "outputs": []
    },
    {
      "cell_type": "code",
      "source": [
        "\n",
        "# List of columns you want to vectorize\n",
        "textual_columns = ['title', 'abstract', 'type', 'container-title', 'journalAbbreviation', 'note',\n",
        "                   'author1_name', 'publisher', 'collection-title', 'event-place', 'genre', 'director']\n",
        "\n",
        "# Process numerical columns\n",
        "numerical_columns = ['issued_year', 'issued_month', 'issued_day', 'type_article']\n",
        "scaler = StandardScaler()\n",
        "scaled_numerical_df = pd.DataFrame(scaler.fit_transform(df_ready[numerical_columns]), columns=numerical_columns)\n",
        "\n",
        "# Ensure unique naming for numerical columns\n",
        "scaled_numerical_df.columns = [f\"{col}_numerical\" for col in scaled_numerical_df.columns]\n",
        "\n",
        "vectorized_dataframes = {}  # Using a dictionary to store each vectorized DataFrame with the column name as the key\n",
        "\n",
        "for column in textual_columns:\n",
        "    vectorizer = TfidfVectorizer(max_features=500)\n",
        "    vectors = vectorizer.fit_transform(df_ready[column].astype('str'))  # Convert column to string type to ensure compatibility\n",
        "    vectorized_df = pd.DataFrame(vectors.toarray(), columns=[f\"{column}_{feature}\" for feature in vectorizer.get_feature_names_out()])\n",
        "    vectorized_dataframes[column] = vectorized_df  # Save the vectorized DataFrame in the dictionary\n",
        "\n",
        "# Add the scaled_numerical_df to the dictionary\n",
        "vectorized_dataframes['numerical'] = scaled_numerical_df\n",
        "\n",
        "# Concatenate all the vectorized DataFrames into a single DataFrame:\n",
        "final_vectorized_df = pd.concat(vectorized_dataframes.values(), axis=1)\n",
        "\n",
        "# Save the final_vectorized_df as a parquet file:\n",
        "final_vectorized_df.to_parquet('final_vectorized_data.parquet')"
      ],
      "metadata": {
        "id": "jol5U3Za-rOl"
      },
      "execution_count": null,
      "outputs": []
    },
    {
      "cell_type": "code",
      "source": [
        "\n",
        "final_vectorized_df.info()\n"
      ],
      "metadata": {
        "colab": {
          "base_uri": "https://localhost:8080/"
        },
        "id": "DaOxDA8781m8",
        "outputId": "f3093288-39b5-4190-cbfd-770af779676d"
      },
      "execution_count": null,
      "outputs": [
        {
          "output_type": "stream",
          "name": "stdout",
          "text": [
            "<class 'pandas.core.frame.DataFrame'>\n",
            "RangeIndex: 201 entries, 0 to 200\n",
            "Columns: 1477 entries, title_000 to type_article_numerical\n",
            "dtypes: float64(1477)\n",
            "memory usage: 2.3 MB\n"
          ]
        }
      ]
    },
    {
      "cell_type": "code",
      "source": [],
      "metadata": {
        "id": "BPWumXrBDCAV"
      },
      "execution_count": null,
      "outputs": []
    }
  ]
}